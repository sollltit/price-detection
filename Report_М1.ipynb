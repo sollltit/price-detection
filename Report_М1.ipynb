{
 "cells": [
  {
   "cell_type": "code",
   "execution_count": 2,
   "metadata": {},
   "outputs": [],
   "source": [
    "import warnings\n",
    "warnings.filterwarnings('ignore')\n",
    "import os\n",
    "import pandas as pd\n",
    "import matplotlib.pyplot as plt\n",
    "import seaborn as sns"
   ]
  },
  {
   "cell_type": "markdown",
   "metadata": {},
   "source": [
    "# 1.1 Подготовка и анализ изначальных данных"
   ]
  },
  {
   "cell_type": "markdown",
   "metadata": {},
   "source": [
    "### Смотрим какие классы есть в размеченных данных"
   ]
  },
  {
   "cell_type": "code",
   "execution_count": 6,
   "metadata": {},
   "outputs": [
    {
     "name": "stdout",
     "output_type": "stream",
     "text": [
      "Train: defaultdict(<class 'int'>, {0: 1007, 2: 1006, 1: 281, 3: 359})\n",
      "Test: defaultdict(<class 'int'>, {0: 142, 2: 142, 1: 45, 3: 53})\n",
      "Valid: defaultdict(<class 'int'>, {0: 290, 2: 290, 1: 82, 3: 106})\n"
     ]
    }
   ],
   "source": [
    "from collections import defaultdict, OrderedDict\n",
    "\n",
    "# путь к папке train\n",
    "fold_path_train = 'train\\labels'\n",
    "fold_path_test = 'test\\labels'\n",
    "fold_path_valid = 'valid\\labels'\n",
    "\n",
    "\n",
    "def made_dict(fold_path):\n",
    "    class_dict = defaultdict(int)\n",
    "    \n",
    "    for filename in os.listdir(fold_path):\n",
    "        file_path = os.path.join(fold_path, filename)\n",
    "    \n",
    "        with open(file_path, 'r') as f:\n",
    "            for l in f:\n",
    "                l = l.strip()\n",
    "    \n",
    "                if l:\n",
    "                    # класс идёт первым числом в строке, после него пробел,\n",
    "                    #  -> обрезаем строку до первого пробела\n",
    "                    first_space = l.find(' ')\n",
    "                    part = l[:first_space] if first_space != -1 else l\n",
    "    \n",
    "                    if part.isdigit():\n",
    "                        class_dict[int(part)] += 1\n",
    "    return class_dict\n",
    "\n",
    "class_train = made_dict(fold_path_train)\n",
    "class_test = made_dict(fold_path_test)\n",
    "class_valid = made_dict(fold_path_valid)\n",
    "\n",
    "print(f'Train: {class_train}\\nTest: {class_test}\\nValid: {class_valid}')"
   ]
  }
 ],
 "metadata": {
  "kernelspec": {
   "display_name": ".venv",
   "language": "python",
   "name": "python3"
  },
  "language_info": {
   "codemirror_mode": {
    "name": "ipython",
    "version": 3
   },
   "file_extension": ".py",
   "mimetype": "text/x-python",
   "name": "python",
   "nbconvert_exporter": "python",
   "pygments_lexer": "ipython3",
   "version": "3.11.0"
  }
 },
 "nbformat": 4,
 "nbformat_minor": 2
}
