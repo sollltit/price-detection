{
 "cells": [
  {
   "cell_type": "code",
   "execution_count": 2,
   "metadata": {},
   "outputs": [],
   "source": [
    "import warnings\n",
    "warnings.filterwarnings('ignore')\n",
    "import os\n",
    "import pandas as pd\n",
    "import matplotlib.pyplot as plt\n",
    "import seaborn as sns"
   ]
  },
  {
   "cell_type": "markdown",
   "metadata": {},
   "source": [
    "# 1.1 Подготовка и анализ изначальных данных"
   ]
  },
  {
   "cell_type": "markdown",
   "metadata": {},
   "source": [
    "### Смотрим какие классы есть в изначальной разметке данных"
   ]
  },
  {
   "cell_type": "code",
   "execution_count": 9,
   "metadata": {},
   "outputs": [
    {
     "name": "stdout",
     "output_type": "stream",
     "text": [
      "Изначальная разметка\n",
      "------------------------------------------------------------------------------------------------------------------------\n",
      "Train: defaultdict(<class 'int'>, {0: 1007, 2: 1006, 1: 281, 3: 359})\n",
      "Test: defaultdict(<class 'int'>, {0: 142, 2: 142, 1: 45, 3: 53})\n",
      "Valid: defaultdict(<class 'int'>, {0: 290, 2: 290, 1: 82, 3: 106})\n"
     ]
    }
   ],
   "source": [
    "from collections import defaultdict, OrderedDict\n",
    "\n",
    "# путь к папкам с изначальной разметкой\n",
    "fold_path_train = 'train\\labels'\n",
    "fold_path_test = 'test\\labels'\n",
    "fold_path_valid = 'valid\\labels'\n",
    "\n",
    "\n",
    "def made_dict(fold_path):\n",
    "    class_dict = defaultdict(int)\n",
    "    \n",
    "    for filename in os.listdir(fold_path):\n",
    "        file_path = os.path.join(fold_path, filename)\n",
    "    \n",
    "        with open(file_path, 'r') as f:\n",
    "            for l in f:\n",
    "                l = l.strip()\n",
    "    \n",
    "                if l:\n",
    "                    # класс идёт первым числом в строке, после него пробел,\n",
    "                    #  -> обрезаем строку до первого пробела\n",
    "                    first_space = l.find(' ')\n",
    "                    part = l[:first_space] if first_space != -1 else l\n",
    "    \n",
    "                    if part.isdigit():\n",
    "                        class_dict[int(part)] += 1\n",
    "    return class_dict\n",
    "\n",
    "class_train = made_dict(fold_path_train)\n",
    "class_test = made_dict(fold_path_test)\n",
    "class_valid = made_dict(fold_path_valid)\n",
    "\n",
    "print(f'Изначальная разметка\\n{\"-\"*120}')\n",
    "print(f'Train: {class_train}\\nTest: {class_test}\\nValid: {class_valid}')"
   ]
  },
  {
   "cell_type": "markdown",
   "metadata": {},
   "source": [
    "**Классы:**\n",
    "\n",
    "0 - name (наименование товара)\n",
    "\n",
    "1 - old_price (старая цена)\n",
    "\n",
    "2 - price (цена)\n",
    "\n",
    "3 - promotion (акция (?))"
   ]
  },
  {
   "cell_type": "markdown",
   "metadata": {},
   "source": [
    "### Доразмеченные данные"
   ]
  },
  {
   "cell_type": "markdown",
   "metadata": {},
   "source": [
    "__________________________________________________________________\n",
    "* до разметка и переразметка изображений была сделана в YOLO annotation tool master\n",
    "___________________________________________________________________"
   ]
  },
  {
   "cell_type": "code",
   "execution_count": 10,
   "metadata": {},
   "outputs": [
    {
     "name": "stdout",
     "output_type": "stream",
     "text": [
      "Новая разметка\n",
      "------------------------------------------------------------------------------------------------------------------------\n",
      "Train: defaultdict(<class 'int'>, {0: 1027, 2: 1028, 1: 283, 3: 390})\n",
      "Test: defaultdict(<class 'int'>, {0: 143, 2: 143, 1: 46, 3: 61})\n",
      "Valid: defaultdict(<class 'int'>, {0: 299, 2: 299, 1: 84, 3: 125})\n"
     ]
    }
   ],
   "source": [
    "# путь к папкам с обновлённой разметкой\n",
    "fold_path_train2 = 'train_razmetka'\n",
    "fold_path_test2 = 'test_razmetka'\n",
    "fold_path_valid2 = 'valid_razmetka'\n",
    "\n",
    "class_train2 = made_dict(fold_path_train2)\n",
    "class_test2 = made_dict(fold_path_test2)\n",
    "class_valid2 = made_dict(fold_path_valid2)\n",
    "\n",
    "print(f'Новая разметка\\n{\"-\"*120}')\n",
    "print(f'Train: {class_train2}\\nTest: {class_test2}\\nValid: {class_valid2}')"
   ]
  },
  {
   "cell_type": "markdown",
   "metadata": {},
   "source": [
    "# 1.2 Подбор алгоритма обучения"
   ]
  },
  {
   "cell_type": "markdown",
   "metadata": {},
   "source": [
    "Для решения поставленной задачи выбрана модель нейронной сети YOLOv5m из-за формата данных, высокой точности и скорости обучения и невысоких системных требований."
   ]
  },
  {
   "cell_type": "code",
   "execution_count": null,
   "metadata": {},
   "outputs": [],
   "source": []
  }
 ],
 "metadata": {
  "kernelspec": {
   "display_name": ".venv",
   "language": "python",
   "name": "python3"
  },
  "language_info": {
   "codemirror_mode": {
    "name": "ipython",
    "version": 3
   },
   "file_extension": ".py",
   "mimetype": "text/x-python",
   "name": "python",
   "nbconvert_exporter": "python",
   "pygments_lexer": "ipython3",
   "version": "3.11.0"
  }
 },
 "nbformat": 4,
 "nbformat_minor": 2
}
